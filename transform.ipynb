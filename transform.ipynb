{
 "cells": [
  {
   "cell_type": "code",
   "execution_count": 1,
   "id": "e6bb5f23-978f-4b9d-aca8-89ff4fd16994",
   "metadata": {
    "tags": []
   },
   "outputs": [],
   "source": [
    "import pandas as pd"
   ]
  },
  {
   "cell_type": "code",
   "execution_count": 2,
   "id": "b74e26d5-f4e5-43cb-9665-2441196224e7",
   "metadata": {
    "tags": []
   },
   "outputs": [
    {
     "data": {
      "text/html": [
       "<div>\n",
       "<style scoped>\n",
       "    .dataframe tbody tr th:only-of-type {\n",
       "        vertical-align: middle;\n",
       "    }\n",
       "\n",
       "    .dataframe tbody tr th {\n",
       "        vertical-align: top;\n",
       "    }\n",
       "\n",
       "    .dataframe thead th {\n",
       "        text-align: right;\n",
       "    }\n",
       "</style>\n",
       "<table border=\"1\" class=\"dataframe\">\n",
       "  <thead>\n",
       "    <tr style=\"text-align: right;\">\n",
       "      <th></th>\n",
       "      <th>rating</th>\n",
       "      <th>review</th>\n",
       "      <th>movie_name</th>\n",
       "      <th>sentiment</th>\n",
       "    </tr>\n",
       "  </thead>\n",
       "  <tbody>\n",
       "    <tr>\n",
       "      <th>0</th>\n",
       "      <td>10</td>\n",
       "      <td>I had wanted to see this film from the moment ...</td>\n",
       "      <td>Khách Sạn Rwanda</td>\n",
       "      <td>1</td>\n",
       "    </tr>\n",
       "    <tr>\n",
       "      <th>1</th>\n",
       "      <td>10</td>\n",
       "      <td>If you call common sense, and a human heart yo...</td>\n",
       "      <td>Oldboy: Báo Thù</td>\n",
       "      <td>1</td>\n",
       "    </tr>\n",
       "    <tr>\n",
       "      <th>2</th>\n",
       "      <td>10</td>\n",
       "      <td>George Miller's masterpiece Mad Max:Fury Road ...</td>\n",
       "      <td>Max Điên: Con Đường Tử Thần</td>\n",
       "      <td>1</td>\n",
       "    </tr>\n",
       "    <tr>\n",
       "      <th>3</th>\n",
       "      <td>10</td>\n",
       "      <td>One of the early \"historical epics\" to set off...</td>\n",
       "      <td>Trái Tim Dũng Cảm</td>\n",
       "      <td>1</td>\n",
       "    </tr>\n",
       "    <tr>\n",
       "      <th>4</th>\n",
       "      <td>10</td>\n",
       "      <td>Music is banned in Miguel's household after hi...</td>\n",
       "      <td>Coco: Hội Ngộ Diệu Kỳ</td>\n",
       "      <td>1</td>\n",
       "    </tr>\n",
       "    <tr>\n",
       "      <th>...</th>\n",
       "      <td>...</td>\n",
       "      <td>...</td>\n",
       "      <td>...</td>\n",
       "      <td>...</td>\n",
       "    </tr>\n",
       "    <tr>\n",
       "      <th>17065</th>\n",
       "      <td>1</td>\n",
       "      <td>I don't get why this is so treasured by everyb...</td>\n",
       "      <td>Phù Thủy Xứ Oz</td>\n",
       "      <td>0</td>\n",
       "    </tr>\n",
       "    <tr>\n",
       "      <th>17066</th>\n",
       "      <td>8</td>\n",
       "      <td>Such an amazing film. I grew up on this movie ...</td>\n",
       "      <td>Toy Story 2</td>\n",
       "      <td>1</td>\n",
       "    </tr>\n",
       "    <tr>\n",
       "      <th>17067</th>\n",
       "      <td>1</td>\n",
       "      <td>It's rare that I turn down an opportunity to s...</td>\n",
       "      <td>Lịch Sử Mĩ Thế Kỉ X</td>\n",
       "      <td>0</td>\n",
       "    </tr>\n",
       "    <tr>\n",
       "      <th>17068</th>\n",
       "      <td>10</td>\n",
       "      <td>nadia is hot thats all i have to say</td>\n",
       "      <td>Redline</td>\n",
       "      <td>1</td>\n",
       "    </tr>\n",
       "    <tr>\n",
       "      <th>17069</th>\n",
       "      <td>10</td>\n",
       "      <td>I have seen some great movies, old or new. The...</td>\n",
       "      <td>Sự Im Lặng Của Bầy Cừu</td>\n",
       "      <td>1</td>\n",
       "    </tr>\n",
       "  </tbody>\n",
       "</table>\n",
       "<p>17070 rows × 4 columns</p>\n",
       "</div>"
      ],
      "text/plain": [
       "       rating                                             review  \\\n",
       "0          10  I had wanted to see this film from the moment ...   \n",
       "1          10  If you call common sense, and a human heart yo...   \n",
       "2          10  George Miller's masterpiece Mad Max:Fury Road ...   \n",
       "3          10  One of the early \"historical epics\" to set off...   \n",
       "4          10  Music is banned in Miguel's household after hi...   \n",
       "...       ...                                                ...   \n",
       "17065       1  I don't get why this is so treasured by everyb...   \n",
       "17066       8  Such an amazing film. I grew up on this movie ...   \n",
       "17067       1  It's rare that I turn down an opportunity to s...   \n",
       "17068      10               nadia is hot thats all i have to say   \n",
       "17069      10  I have seen some great movies, old or new. The...   \n",
       "\n",
       "                        movie_name  sentiment  \n",
       "0                 Khách Sạn Rwanda          1  \n",
       "1                  Oldboy: Báo Thù          1  \n",
       "2      Max Điên: Con Đường Tử Thần          1  \n",
       "3                Trái Tim Dũng Cảm          1  \n",
       "4            Coco: Hội Ngộ Diệu Kỳ          1  \n",
       "...                            ...        ...  \n",
       "17065               Phù Thủy Xứ Oz          0  \n",
       "17066                  Toy Story 2          1  \n",
       "17067          Lịch Sử Mĩ Thế Kỉ X          0  \n",
       "17068                      Redline          1  \n",
       "17069       Sự Im Lặng Của Bầy Cừu          1  \n",
       "\n",
       "[17070 rows x 4 columns]"
      ]
     },
     "execution_count": 2,
     "metadata": {},
     "output_type": "execute_result"
    }
   ],
   "source": [
    "df = pd.read_csv(\"/data/Llama2-7b-demo-main/miniproj/reviews_dataset.csv\",index_col=0)\n",
    "df"
   ]
  },
  {
   "cell_type": "code",
   "execution_count": 3,
   "id": "95316801-57c0-46b4-8e61-a35e2893a1a1",
   "metadata": {
    "tags": []
   },
   "outputs": [],
   "source": [
    "df = df.sort_values(\"movie_name\", ignore_index=True)"
   ]
  },
  {
   "cell_type": "code",
   "execution_count": 4,
   "id": "0d604e15-d193-44a0-9644-d4e0fd3a11bf",
   "metadata": {
    "tags": []
   },
   "outputs": [
    {
     "data": {
      "text/html": [
       "<div>\n",
       "<style scoped>\n",
       "    .dataframe tbody tr th:only-of-type {\n",
       "        vertical-align: middle;\n",
       "    }\n",
       "\n",
       "    .dataframe tbody tr th {\n",
       "        vertical-align: top;\n",
       "    }\n",
       "\n",
       "    .dataframe thead th {\n",
       "        text-align: right;\n",
       "    }\n",
       "</style>\n",
       "<table border=\"1\" class=\"dataframe\">\n",
       "  <thead>\n",
       "    <tr style=\"text-align: right;\">\n",
       "      <th></th>\n",
       "      <th>rating</th>\n",
       "      <th>review</th>\n",
       "      <th>movie_name</th>\n",
       "      <th>sentiment</th>\n",
       "    </tr>\n",
       "  </thead>\n",
       "  <tbody>\n",
       "    <tr>\n",
       "      <th>0</th>\n",
       "      <td>10</td>\n",
       "      <td>This film is superb, in fact as Shakespeare on...</td>\n",
       "      <td>12 Người Đàn Ông Giận Dữ</td>\n",
       "      <td>1</td>\n",
       "    </tr>\n",
       "    <tr>\n",
       "      <th>1</th>\n",
       "      <td>1</td>\n",
       "      <td>I remember watching this movie on one my last ...</td>\n",
       "      <td>12 Người Đàn Ông Giận Dữ</td>\n",
       "      <td>0</td>\n",
       "    </tr>\n",
       "    <tr>\n",
       "      <th>2</th>\n",
       "      <td>1</td>\n",
       "      <td>A fictional story story about \"jury nullificat...</td>\n",
       "      <td>12 Người Đàn Ông Giận Dữ</td>\n",
       "      <td>0</td>\n",
       "    </tr>\n",
       "    <tr>\n",
       "      <th>3</th>\n",
       "      <td>4</td>\n",
       "      <td>12 Angry men is a film in which maybe those ov...</td>\n",
       "      <td>12 Người Đàn Ông Giận Dữ</td>\n",
       "      <td>0</td>\n",
       "    </tr>\n",
       "    <tr>\n",
       "      <th>4</th>\n",
       "      <td>1</td>\n",
       "      <td>In the movie The 12 Angry Man, I didn't like t...</td>\n",
       "      <td>12 Người Đàn Ông Giận Dữ</td>\n",
       "      <td>0</td>\n",
       "    </tr>\n",
       "    <tr>\n",
       "      <th>...</th>\n",
       "      <td>...</td>\n",
       "      <td>...</td>\n",
       "      <td>...</td>\n",
       "      <td>...</td>\n",
       "    </tr>\n",
       "    <tr>\n",
       "      <th>17065</th>\n",
       "      <td>10</td>\n",
       "      <td>The Prestige, adapted from an award winning no...</td>\n",
       "      <td>Ảo Thuật Gia Đấu Trí</td>\n",
       "      <td>1</td>\n",
       "    </tr>\n",
       "    <tr>\n",
       "      <th>17066</th>\n",
       "      <td>10</td>\n",
       "      <td>Every so often I see a film that I get addicte...</td>\n",
       "      <td>Ảo Thuật Gia Đấu Trí</td>\n",
       "      <td>1</td>\n",
       "    </tr>\n",
       "    <tr>\n",
       "      <th>17067</th>\n",
       "      <td>1</td>\n",
       "      <td>This movie was bad, really bad. It is longer t...</td>\n",
       "      <td>Ảo Thuật Gia Đấu Trí</td>\n",
       "      <td>0</td>\n",
       "    </tr>\n",
       "    <tr>\n",
       "      <th>17068</th>\n",
       "      <td>1</td>\n",
       "      <td>It's a movie with a twist that puts it into th...</td>\n",
       "      <td>Ảo Thuật Gia Đấu Trí</td>\n",
       "      <td>0</td>\n",
       "    </tr>\n",
       "    <tr>\n",
       "      <th>17069</th>\n",
       "      <td>1</td>\n",
       "      <td>I'm a Hugh Jackman fan. A few years ago on a b...</td>\n",
       "      <td>Ảo Thuật Gia Đấu Trí</td>\n",
       "      <td>0</td>\n",
       "    </tr>\n",
       "  </tbody>\n",
       "</table>\n",
       "<p>17070 rows × 4 columns</p>\n",
       "</div>"
      ],
      "text/plain": [
       "       rating                                             review  \\\n",
       "0          10  This film is superb, in fact as Shakespeare on...   \n",
       "1           1  I remember watching this movie on one my last ...   \n",
       "2           1  A fictional story story about \"jury nullificat...   \n",
       "3           4  12 Angry men is a film in which maybe those ov...   \n",
       "4           1  In the movie The 12 Angry Man, I didn't like t...   \n",
       "...       ...                                                ...   \n",
       "17065      10  The Prestige, adapted from an award winning no...   \n",
       "17066      10  Every so often I see a film that I get addicte...   \n",
       "17067       1  This movie was bad, really bad. It is longer t...   \n",
       "17068       1  It's a movie with a twist that puts it into th...   \n",
       "17069       1  I'm a Hugh Jackman fan. A few years ago on a b...   \n",
       "\n",
       "                     movie_name  sentiment  \n",
       "0      12 Người Đàn Ông Giận Dữ          1  \n",
       "1      12 Người Đàn Ông Giận Dữ          0  \n",
       "2      12 Người Đàn Ông Giận Dữ          0  \n",
       "3      12 Người Đàn Ông Giận Dữ          0  \n",
       "4      12 Người Đàn Ông Giận Dữ          0  \n",
       "...                         ...        ...  \n",
       "17065      Ảo Thuật Gia Đấu Trí          1  \n",
       "17066      Ảo Thuật Gia Đấu Trí          1  \n",
       "17067      Ảo Thuật Gia Đấu Trí          0  \n",
       "17068      Ảo Thuật Gia Đấu Trí          0  \n",
       "17069      Ảo Thuật Gia Đấu Trí          0  \n",
       "\n",
       "[17070 rows x 4 columns]"
      ]
     },
     "execution_count": 4,
     "metadata": {},
     "output_type": "execute_result"
    }
   ],
   "source": [
    "df"
   ]
  },
  {
   "cell_type": "code",
   "execution_count": 5,
   "id": "095ea8e0-a858-432d-b810-d1545a414083",
   "metadata": {
    "tags": []
   },
   "outputs": [],
   "source": [
    "df.loc[df['sentiment'] == 1, 'sentiment'] = 'Positive'"
   ]
  },
  {
   "cell_type": "code",
   "execution_count": 6,
   "id": "7b7c32d2-75e8-41f2-8d14-7b4ff636bcc6",
   "metadata": {
    "tags": []
   },
   "outputs": [],
   "source": [
    "df.loc[df['sentiment'] == 0, 'sentiment'] = 'Negative'"
   ]
  },
  {
   "cell_type": "code",
   "execution_count": 7,
   "id": "93e56f3b-dd4d-4331-8ca8-e9f609dff885",
   "metadata": {
    "tags": []
   },
   "outputs": [
    {
     "data": {
      "text/html": [
       "<div>\n",
       "<style scoped>\n",
       "    .dataframe tbody tr th:only-of-type {\n",
       "        vertical-align: middle;\n",
       "    }\n",
       "\n",
       "    .dataframe tbody tr th {\n",
       "        vertical-align: top;\n",
       "    }\n",
       "\n",
       "    .dataframe thead th {\n",
       "        text-align: right;\n",
       "    }\n",
       "</style>\n",
       "<table border=\"1\" class=\"dataframe\">\n",
       "  <thead>\n",
       "    <tr style=\"text-align: right;\">\n",
       "      <th></th>\n",
       "      <th>rating</th>\n",
       "      <th>review</th>\n",
       "      <th>movie_name</th>\n",
       "      <th>sentiment</th>\n",
       "    </tr>\n",
       "  </thead>\n",
       "  <tbody>\n",
       "    <tr>\n",
       "      <th>0</th>\n",
       "      <td>10</td>\n",
       "      <td>This film is superb, in fact as Shakespeare on...</td>\n",
       "      <td>12 Người Đàn Ông Giận Dữ</td>\n",
       "      <td>Positive</td>\n",
       "    </tr>\n",
       "    <tr>\n",
       "      <th>1</th>\n",
       "      <td>1</td>\n",
       "      <td>I remember watching this movie on one my last ...</td>\n",
       "      <td>12 Người Đàn Ông Giận Dữ</td>\n",
       "      <td>Negative</td>\n",
       "    </tr>\n",
       "    <tr>\n",
       "      <th>2</th>\n",
       "      <td>1</td>\n",
       "      <td>A fictional story story about \"jury nullificat...</td>\n",
       "      <td>12 Người Đàn Ông Giận Dữ</td>\n",
       "      <td>Negative</td>\n",
       "    </tr>\n",
       "    <tr>\n",
       "      <th>3</th>\n",
       "      <td>4</td>\n",
       "      <td>12 Angry men is a film in which maybe those ov...</td>\n",
       "      <td>12 Người Đàn Ông Giận Dữ</td>\n",
       "      <td>Negative</td>\n",
       "    </tr>\n",
       "    <tr>\n",
       "      <th>4</th>\n",
       "      <td>1</td>\n",
       "      <td>In the movie The 12 Angry Man, I didn't like t...</td>\n",
       "      <td>12 Người Đàn Ông Giận Dữ</td>\n",
       "      <td>Negative</td>\n",
       "    </tr>\n",
       "    <tr>\n",
       "      <th>...</th>\n",
       "      <td>...</td>\n",
       "      <td>...</td>\n",
       "      <td>...</td>\n",
       "      <td>...</td>\n",
       "    </tr>\n",
       "    <tr>\n",
       "      <th>17065</th>\n",
       "      <td>10</td>\n",
       "      <td>The Prestige, adapted from an award winning no...</td>\n",
       "      <td>Ảo Thuật Gia Đấu Trí</td>\n",
       "      <td>Positive</td>\n",
       "    </tr>\n",
       "    <tr>\n",
       "      <th>17066</th>\n",
       "      <td>10</td>\n",
       "      <td>Every so often I see a film that I get addicte...</td>\n",
       "      <td>Ảo Thuật Gia Đấu Trí</td>\n",
       "      <td>Positive</td>\n",
       "    </tr>\n",
       "    <tr>\n",
       "      <th>17067</th>\n",
       "      <td>1</td>\n",
       "      <td>This movie was bad, really bad. It is longer t...</td>\n",
       "      <td>Ảo Thuật Gia Đấu Trí</td>\n",
       "      <td>Negative</td>\n",
       "    </tr>\n",
       "    <tr>\n",
       "      <th>17068</th>\n",
       "      <td>1</td>\n",
       "      <td>It's a movie with a twist that puts it into th...</td>\n",
       "      <td>Ảo Thuật Gia Đấu Trí</td>\n",
       "      <td>Negative</td>\n",
       "    </tr>\n",
       "    <tr>\n",
       "      <th>17069</th>\n",
       "      <td>1</td>\n",
       "      <td>I'm a Hugh Jackman fan. A few years ago on a b...</td>\n",
       "      <td>Ảo Thuật Gia Đấu Trí</td>\n",
       "      <td>Negative</td>\n",
       "    </tr>\n",
       "  </tbody>\n",
       "</table>\n",
       "<p>17070 rows × 4 columns</p>\n",
       "</div>"
      ],
      "text/plain": [
       "       rating                                             review  \\\n",
       "0          10  This film is superb, in fact as Shakespeare on...   \n",
       "1           1  I remember watching this movie on one my last ...   \n",
       "2           1  A fictional story story about \"jury nullificat...   \n",
       "3           4  12 Angry men is a film in which maybe those ov...   \n",
       "4           1  In the movie The 12 Angry Man, I didn't like t...   \n",
       "...       ...                                                ...   \n",
       "17065      10  The Prestige, adapted from an award winning no...   \n",
       "17066      10  Every so often I see a film that I get addicte...   \n",
       "17067       1  This movie was bad, really bad. It is longer t...   \n",
       "17068       1  It's a movie with a twist that puts it into th...   \n",
       "17069       1  I'm a Hugh Jackman fan. A few years ago on a b...   \n",
       "\n",
       "                     movie_name sentiment  \n",
       "0      12 Người Đàn Ông Giận Dữ  Positive  \n",
       "1      12 Người Đàn Ông Giận Dữ  Negative  \n",
       "2      12 Người Đàn Ông Giận Dữ  Negative  \n",
       "3      12 Người Đàn Ông Giận Dữ  Negative  \n",
       "4      12 Người Đàn Ông Giận Dữ  Negative  \n",
       "...                         ...       ...  \n",
       "17065      Ảo Thuật Gia Đấu Trí  Positive  \n",
       "17066      Ảo Thuật Gia Đấu Trí  Positive  \n",
       "17067      Ảo Thuật Gia Đấu Trí  Negative  \n",
       "17068      Ảo Thuật Gia Đấu Trí  Negative  \n",
       "17069      Ảo Thuật Gia Đấu Trí  Negative  \n",
       "\n",
       "[17070 rows x 4 columns]"
      ]
     },
     "execution_count": 7,
     "metadata": {},
     "output_type": "execute_result"
    }
   ],
   "source": [
    "df"
   ]
  },
  {
   "cell_type": "code",
   "execution_count": 8,
   "id": "ebfc09d6-9d5f-4432-98e7-705407db3732",
   "metadata": {
    "tags": []
   },
   "outputs": [],
   "source": [
    "df['train'] = '<s>[INST] ' + df['review'] + ' [/INST] ' + df['sentiment'] + ' </s>'"
   ]
  },
  {
   "cell_type": "code",
   "execution_count": 9,
   "id": "0c719a90-f067-4fd4-b8a6-36210bf78eb2",
   "metadata": {
    "tags": []
   },
   "outputs": [],
   "source": [
    "newdf = df[['train']]"
   ]
  },
  {
   "cell_type": "code",
   "execution_count": 10,
   "id": "2d1618f5-d47d-4262-8df0-b283639a4c20",
   "metadata": {
    "tags": []
   },
   "outputs": [
    {
     "data": {
      "text/html": [
       "<div>\n",
       "<style scoped>\n",
       "    .dataframe tbody tr th:only-of-type {\n",
       "        vertical-align: middle;\n",
       "    }\n",
       "\n",
       "    .dataframe tbody tr th {\n",
       "        vertical-align: top;\n",
       "    }\n",
       "\n",
       "    .dataframe thead th {\n",
       "        text-align: right;\n",
       "    }\n",
       "</style>\n",
       "<table border=\"1\" class=\"dataframe\">\n",
       "  <thead>\n",
       "    <tr style=\"text-align: right;\">\n",
       "      <th></th>\n",
       "      <th>train</th>\n",
       "    </tr>\n",
       "  </thead>\n",
       "  <tbody>\n",
       "    <tr>\n",
       "      <th>0</th>\n",
       "      <td>&lt;s&gt;[INST] This film is superb, in fact as Shak...</td>\n",
       "    </tr>\n",
       "    <tr>\n",
       "      <th>1</th>\n",
       "      <td>&lt;s&gt;[INST] I remember watching this movie on on...</td>\n",
       "    </tr>\n",
       "    <tr>\n",
       "      <th>2</th>\n",
       "      <td>&lt;s&gt;[INST] A fictional story story about \"jury ...</td>\n",
       "    </tr>\n",
       "    <tr>\n",
       "      <th>3</th>\n",
       "      <td>&lt;s&gt;[INST] 12 Angry men is a film in which mayb...</td>\n",
       "    </tr>\n",
       "    <tr>\n",
       "      <th>4</th>\n",
       "      <td>&lt;s&gt;[INST] In the movie The 12 Angry Man, I did...</td>\n",
       "    </tr>\n",
       "    <tr>\n",
       "      <th>...</th>\n",
       "      <td>...</td>\n",
       "    </tr>\n",
       "    <tr>\n",
       "      <th>17065</th>\n",
       "      <td>&lt;s&gt;[INST] The Prestige, adapted from an award ...</td>\n",
       "    </tr>\n",
       "    <tr>\n",
       "      <th>17066</th>\n",
       "      <td>&lt;s&gt;[INST] Every so often I see a film that I g...</td>\n",
       "    </tr>\n",
       "    <tr>\n",
       "      <th>17067</th>\n",
       "      <td>&lt;s&gt;[INST] This movie was bad, really bad. It i...</td>\n",
       "    </tr>\n",
       "    <tr>\n",
       "      <th>17068</th>\n",
       "      <td>&lt;s&gt;[INST] It's a movie with a twist that puts ...</td>\n",
       "    </tr>\n",
       "    <tr>\n",
       "      <th>17069</th>\n",
       "      <td>&lt;s&gt;[INST] I'm a Hugh Jackman fan. A few years ...</td>\n",
       "    </tr>\n",
       "  </tbody>\n",
       "</table>\n",
       "<p>17070 rows × 1 columns</p>\n",
       "</div>"
      ],
      "text/plain": [
       "                                                   train\n",
       "0      <s>[INST] This film is superb, in fact as Shak...\n",
       "1      <s>[INST] I remember watching this movie on on...\n",
       "2      <s>[INST] A fictional story story about \"jury ...\n",
       "3      <s>[INST] 12 Angry men is a film in which mayb...\n",
       "4      <s>[INST] In the movie The 12 Angry Man, I did...\n",
       "...                                                  ...\n",
       "17065  <s>[INST] The Prestige, adapted from an award ...\n",
       "17066  <s>[INST] Every so often I see a film that I g...\n",
       "17067  <s>[INST] This movie was bad, really bad. It i...\n",
       "17068  <s>[INST] It's a movie with a twist that puts ...\n",
       "17069  <s>[INST] I'm a Hugh Jackman fan. A few years ...\n",
       "\n",
       "[17070 rows x 1 columns]"
      ]
     },
     "execution_count": 10,
     "metadata": {},
     "output_type": "execute_result"
    }
   ],
   "source": [
    "newdf"
   ]
  },
  {
   "cell_type": "code",
   "execution_count": 11,
   "id": "c8a7814b-7999-44b8-b0ad-4995f4bc6009",
   "metadata": {
    "tags": []
   },
   "outputs": [],
   "source": [
    "newdf.to_csv('/data/Llama2-7b-demo-main/miniproj/moviereviewtitle.csv', index=False)"
   ]
  },
  {
   "cell_type": "code",
   "execution_count": 12,
   "id": "7631a5e3-701c-47ff-87ff-0521bfa1f9db",
   "metadata": {
    "tags": []
   },
   "outputs": [],
   "source": [
    "pd.set_option('display.max_colwidth', None)"
   ]
  },
  {
   "cell_type": "code",
   "execution_count": 13,
   "id": "64c347f0-dee4-48ec-8100-205e47ec71b6",
   "metadata": {},
   "outputs": [
    {
     "data": {
      "text/plain": [
       "train    <s>[INST] A fictional story story about \"jury nullification\", and confirmation bias. It's an example of the refusal of a jury to find a defendant guilty, even when the facts establish guilt, because that conviction would be contrary to some other concept of justice. [/INST] Negative </s>\n",
       "Name: 2, dtype: object"
      ]
     },
     "execution_count": 13,
     "metadata": {},
     "output_type": "execute_result"
    }
   ],
   "source": [
    "newdf.iloc[2]"
   ]
  },
  {
   "cell_type": "code",
   "execution_count": 14,
   "id": "7c984890-2a96-4b44-a6fc-224f663bad75",
   "metadata": {
    "tags": []
   },
   "outputs": [],
   "source": [
    "newdf = newdf.dropna()"
   ]
  },
  {
   "cell_type": "code",
   "execution_count": 15,
   "id": "f4e4eff2-7e23-47e9-b9a2-10e4a0a7e214",
   "metadata": {
    "tags": []
   },
   "outputs": [],
   "source": [
    "newdf.to_csv('/data/Llama2-7b-demo-main/miniproj/moviereviewtitle.csv', index=False)"
   ]
  },
  {
   "cell_type": "code",
   "execution_count": null,
   "id": "0239e2ab-6a66-4ba3-873c-3ef75448ed0e",
   "metadata": {},
   "outputs": [],
   "source": []
  }
 ],
 "metadata": {
  "kernelspec": {
   "display_name": "Python 3 (ipykernel)",
   "language": "python",
   "name": "python3"
  },
  "language_info": {
   "codemirror_mode": {
    "name": "ipython",
    "version": 3
   },
   "file_extension": ".py",
   "mimetype": "text/x-python",
   "name": "python",
   "nbconvert_exporter": "python",
   "pygments_lexer": "ipython3",
   "version": "3.11.3"
  }
 },
 "nbformat": 4,
 "nbformat_minor": 5
}
